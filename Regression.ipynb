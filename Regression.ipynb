{
 "cells": [
  {
   "cell_type": "code",
   "execution_count": 175,
   "id": "10508360",
   "metadata": {},
   "outputs": [],
   "source": [
    "import pandas as pd\n",
    "import numpy as np\n",
    "import seaborn as sns\n",
    "import matplotlib.pyplot as plt\n",
    "import torch\n",
    "\n",
    "%matplotlib inline\n",
    "\n",
    "import warnings\n",
    "warnings.filterwarnings(\"ignore\")"
   ]
  },
  {
   "cell_type": "code",
   "execution_count": 48,
   "id": "c11baeac",
   "metadata": {},
   "outputs": [
    {
     "name": "stdout",
     "output_type": "stream",
     "text": [
      "<class 'pandas.core.frame.DataFrame'>\n",
      "RangeIndex: 167 entries, 0 to 166\n",
      "Data columns (total 12 columns):\n",
      " #   Column              Non-Null Count  Dtype  \n",
      "---  ------              --------------  -----  \n",
      " 0   layer_height        167 non-null    float64\n",
      " 1   wall_thickness      167 non-null    float64\n",
      " 2   infill_density      167 non-null    int64  \n",
      " 3   infill_pattern      167 non-null    object \n",
      " 4   nozzle_temperature  167 non-null    int64  \n",
      " 5   bed_temperature     167 non-null    int64  \n",
      " 6   print_speed         167 non-null    int64  \n",
      " 7   material            167 non-null    object \n",
      " 8   fan_speed           167 non-null    int64  \n",
      " 9   roughness           167 non-null    int64  \n",
      " 10  tension_strength    167 non-null    int64  \n",
      " 11  elongation          167 non-null    float64\n",
      "dtypes: float64(3), int64(7), object(2)\n",
      "memory usage: 15.8+ KB\n"
     ]
    }
   ],
   "source": [
    "df = pd.read_csv('additive_manufacturing_synthetic.csv')\n",
    "\n",
    "df.info()"
   ]
  },
  {
   "cell_type": "code",
   "execution_count": 49,
   "id": "e4de1ae0",
   "metadata": {},
   "outputs": [
    {
     "name": "stdout",
     "output_type": "stream",
     "text": [
      "Catergorical Columns: ['infill_pattern', 'material']\n",
      "\n",
      "\n",
      "Numerical Columns: ['layer_height', 'wall_thickness', 'infill_density', 'nozzle_temperature', 'bed_temperature', 'print_speed', 'fan_speed', 'roughness', 'tension_strength', 'elongation']\n"
     ]
    }
   ],
   "source": [
    "cat_col = df.select_dtypes(include='object').columns.tolist()\n",
    "num_col = df.select_dtypes(include='number').columns.tolist()\n",
    "print(f'Catergorical Columns: {cat_col}')\n",
    "print('\\n')\n",
    "print(f'Numerical Columns: {num_col}')"
   ]
  },
  {
   "cell_type": "code",
   "execution_count": 50,
   "id": "8ab82b56",
   "metadata": {},
   "outputs": [
    {
     "name": "stdout",
     "output_type": "stream",
     "text": [
      "<class 'pandas.core.frame.DataFrame'>\n",
      "RangeIndex: 167 entries, 0 to 166\n",
      "Data columns (total 12 columns):\n",
      " #   Column                    Non-Null Count  Dtype  \n",
      "---  ------                    --------------  -----  \n",
      " 0   layer_height              167 non-null    float64\n",
      " 1   wall_thickness            167 non-null    float64\n",
      " 2   infill_density            167 non-null    int64  \n",
      " 3   nozzle_temperature        167 non-null    int64  \n",
      " 4   bed_temperature           167 non-null    int64  \n",
      " 5   print_speed               167 non-null    int64  \n",
      " 6   fan_speed                 167 non-null    int64  \n",
      " 7   roughness                 167 non-null    int64  \n",
      " 8   tension_strength          167 non-null    int64  \n",
      " 9   elongation                167 non-null    float64\n",
      " 10  infill_pattern_honeycomb  167 non-null    int32  \n",
      " 11  material_pla              167 non-null    int32  \n",
      "dtypes: float64(3), int32(2), int64(7)\n",
      "memory usage: 14.5 KB\n"
     ]
    }
   ],
   "source": [
    "df = pd.get_dummies(df, cat_col, drop_first=True, dtype='int')\n",
    "df.info()"
   ]
  },
  {
   "cell_type": "code",
   "execution_count": 51,
   "id": "a270ab11",
   "metadata": {},
   "outputs": [],
   "source": [
    "from sklearn.model_selection import train_test_split\n",
    "\n",
    "df_regression = df.drop(['roughness', 'elongation'], axis=1)\n",
    "X = df_regression.drop('tension_strength', axis=1)\n",
    "y = df_regression['tension_strength']\n",
    "\n",
    "X_train, X_test, y_train, y_test = train_test_split(X, y, test_size=0.2, random_state=21)"
   ]
  },
  {
   "cell_type": "code",
   "execution_count": 177,
   "id": "55a25b7f",
   "metadata": {},
   "outputs": [],
   "source": [
    "from sklearn.preprocessing import StandardScaler\n",
    "from sklearn.compose import ColumnTransformer\n",
    "\n",
    "col_transformer = ColumnTransformer(transformers=[('num', StandardScaler(), ['layer_height', \n",
    "                                                                             'wall_thickness', \n",
    "                                                                             'infill_density', \n",
    "                                                                             'nozzle_temperature', \n",
    "                                                                             'bed_temperature', \n",
    "                                                                             'print_speed', \n",
    "                                                                             'fan_speed'])],\n",
    "                                   remainder='passthrough')\n",
    "\n",
    "X_train_scaled = col_transformer.fit_transform(X_train)\n",
    "X_test_scaled = col_transformer.transform(X_test)"
   ]
  },
  {
   "cell_type": "code",
   "execution_count": 180,
   "id": "a2d2c9ba",
   "metadata": {},
   "outputs": [
    {
     "name": "stdout",
     "output_type": "stream",
     "text": [
      "(133, 9)\n",
      "(34, 9)\n"
     ]
    }
   ],
   "source": [
    "X_train_scaled = pd.DataFrame(X_train_scaled, columns=X_train.columns.to_list())\n",
    "\n",
    "X_test_scaled = pd.DataFrame(X_test_scaled, columns=X_train.columns.to_list())\n",
    "\n",
    "\n",
    "\n",
    "print(X_train_scaled.shape)\n",
    "print(X_test_scaled.shape)"
   ]
  },
  {
   "cell_type": "code",
   "execution_count": 182,
   "id": "4594bb0a",
   "metadata": {},
   "outputs": [
    {
     "data": {
      "text/plain": [
       "layer_height                0\n",
       "wall_thickness              0\n",
       "infill_density              0\n",
       "nozzle_temperature          0\n",
       "bed_temperature             0\n",
       "print_speed                 0\n",
       "fan_speed                   0\n",
       "infill_pattern_honeycomb    0\n",
       "material_pla                0\n",
       "dtype: int64"
      ]
     },
     "execution_count": 182,
     "metadata": {},
     "output_type": "execute_result"
    }
   ],
   "source": [
    "X_test_scaled.isnull().sum()"
   ]
  },
  {
   "cell_type": "code",
   "execution_count": 183,
   "id": "f580cc09",
   "metadata": {},
   "outputs": [
    {
     "data": {
      "text/plain": [
       "array([[2.0e-02, 8.0e+00, 9.0e+01, ..., 0.0e+00, 0.0e+00, 0.0e+00],\n",
       "       [2.0e-02, 7.0e+00, 9.0e+01, ..., 2.5e+01, 1.0e+00, 0.0e+00],\n",
       "       [2.0e-02, 1.0e+00, 8.0e+01, ..., 5.0e+01, 0.0e+00, 0.0e+00],\n",
       "       ...,\n",
       "       [4.0e-02, 2.8e+00, 7.2e+01, ..., 5.0e+01, 1.0e+00, 0.0e+00],\n",
       "       [1.2e-01, 2.8e+00, 7.4e+01, ..., 7.5e+01, 0.0e+00, 1.0e+00],\n",
       "       [9.0e-02, 4.3e+00, 2.6e+01, ..., 0.0e+00, 1.0e+00, 0.0e+00]])"
      ]
     },
     "execution_count": 183,
     "metadata": {},
     "output_type": "execute_result"
    }
   ],
   "source": [
    "from sklearn.feature_selection import SelectKBest, f_regression, mutual_info_regression\n",
    "\n",
    "selector = SelectKBest(score_func=f_regression, k='all')\n",
    "selector.fit_transform(X,y)"
   ]
  },
  {
   "cell_type": "code",
   "execution_count": 184,
   "id": "48bc4c2e",
   "metadata": {},
   "outputs": [
    {
     "data": {
      "text/html": [
       "<div>\n",
       "<style scoped>\n",
       "    .dataframe tbody tr th:only-of-type {\n",
       "        vertical-align: middle;\n",
       "    }\n",
       "\n",
       "    .dataframe tbody tr th {\n",
       "        vertical-align: top;\n",
       "    }\n",
       "\n",
       "    .dataframe thead th {\n",
       "        text-align: right;\n",
       "    }\n",
       "</style>\n",
       "<table border=\"1\" class=\"dataframe\">\n",
       "  <thead>\n",
       "    <tr style=\"text-align: right;\">\n",
       "      <th></th>\n",
       "      <th>Features</th>\n",
       "      <th>Score</th>\n",
       "    </tr>\n",
       "  </thead>\n",
       "  <tbody>\n",
       "    <tr>\n",
       "      <th>0</th>\n",
       "      <td>layer_height</td>\n",
       "      <td>22.688858</td>\n",
       "    </tr>\n",
       "    <tr>\n",
       "      <th>2</th>\n",
       "      <td>infill_density</td>\n",
       "      <td>17.355252</td>\n",
       "    </tr>\n",
       "    <tr>\n",
       "      <th>6</th>\n",
       "      <td>fan_speed</td>\n",
       "      <td>9.227765</td>\n",
       "    </tr>\n",
       "    <tr>\n",
       "      <th>1</th>\n",
       "      <td>wall_thickness</td>\n",
       "      <td>9.180401</td>\n",
       "    </tr>\n",
       "    <tr>\n",
       "      <th>8</th>\n",
       "      <td>material_pla</td>\n",
       "      <td>4.647292</td>\n",
       "    </tr>\n",
       "    <tr>\n",
       "      <th>4</th>\n",
       "      <td>bed_temperature</td>\n",
       "      <td>3.143728</td>\n",
       "    </tr>\n",
       "    <tr>\n",
       "      <th>3</th>\n",
       "      <td>nozzle_temperature</td>\n",
       "      <td>3.140921</td>\n",
       "    </tr>\n",
       "    <tr>\n",
       "      <th>5</th>\n",
       "      <td>print_speed</td>\n",
       "      <td>2.455982</td>\n",
       "    </tr>\n",
       "    <tr>\n",
       "      <th>7</th>\n",
       "      <td>infill_pattern_honeycomb</td>\n",
       "      <td>0.153927</td>\n",
       "    </tr>\n",
       "  </tbody>\n",
       "</table>\n",
       "</div>"
      ],
      "text/plain": [
       "                   Features      Score\n",
       "0              layer_height  22.688858\n",
       "2            infill_density  17.355252\n",
       "6                 fan_speed   9.227765\n",
       "1            wall_thickness   9.180401\n",
       "8              material_pla   4.647292\n",
       "4           bed_temperature   3.143728\n",
       "3        nozzle_temperature   3.140921\n",
       "5               print_speed   2.455982\n",
       "7  infill_pattern_honeycomb   0.153927"
      ]
     },
     "execution_count": 184,
     "metadata": {},
     "output_type": "execute_result"
    }
   ],
   "source": [
    "scores = pd.DataFrame({'Features':X.columns,'Score':selector.scores_})\n",
    "scores.sort_values('Score', ascending=False)"
   ]
  },
  {
   "cell_type": "code",
   "execution_count": 185,
   "id": "30255d95",
   "metadata": {},
   "outputs": [
    {
     "data": {
      "text/html": [
       "<div>\n",
       "<style scoped>\n",
       "    .dataframe tbody tr th:only-of-type {\n",
       "        vertical-align: middle;\n",
       "    }\n",
       "\n",
       "    .dataframe tbody tr th {\n",
       "        vertical-align: top;\n",
       "    }\n",
       "\n",
       "    .dataframe thead th {\n",
       "        text-align: right;\n",
       "    }\n",
       "</style>\n",
       "<table border=\"1\" class=\"dataframe\">\n",
       "  <thead>\n",
       "    <tr style=\"text-align: right;\">\n",
       "      <th></th>\n",
       "      <th>Features</th>\n",
       "      <th>Score</th>\n",
       "    </tr>\n",
       "  </thead>\n",
       "  <tbody>\n",
       "    <tr>\n",
       "      <th>8</th>\n",
       "      <td>material_pla</td>\n",
       "      <td>0.114833</td>\n",
       "    </tr>\n",
       "    <tr>\n",
       "      <th>3</th>\n",
       "      <td>nozzle_temperature</td>\n",
       "      <td>0.096774</td>\n",
       "    </tr>\n",
       "    <tr>\n",
       "      <th>6</th>\n",
       "      <td>fan_speed</td>\n",
       "      <td>0.074330</td>\n",
       "    </tr>\n",
       "    <tr>\n",
       "      <th>1</th>\n",
       "      <td>wall_thickness</td>\n",
       "      <td>0.073125</td>\n",
       "    </tr>\n",
       "    <tr>\n",
       "      <th>7</th>\n",
       "      <td>infill_pattern_honeycomb</td>\n",
       "      <td>0.051772</td>\n",
       "    </tr>\n",
       "    <tr>\n",
       "      <th>4</th>\n",
       "      <td>bed_temperature</td>\n",
       "      <td>0.047715</td>\n",
       "    </tr>\n",
       "    <tr>\n",
       "      <th>2</th>\n",
       "      <td>infill_density</td>\n",
       "      <td>0.038943</td>\n",
       "    </tr>\n",
       "    <tr>\n",
       "      <th>0</th>\n",
       "      <td>layer_height</td>\n",
       "      <td>0.036233</td>\n",
       "    </tr>\n",
       "    <tr>\n",
       "      <th>5</th>\n",
       "      <td>print_speed</td>\n",
       "      <td>0.025915</td>\n",
       "    </tr>\n",
       "  </tbody>\n",
       "</table>\n",
       "</div>"
      ],
      "text/plain": [
       "                   Features     Score\n",
       "8              material_pla  0.114833\n",
       "3        nozzle_temperature  0.096774\n",
       "6                 fan_speed  0.074330\n",
       "1            wall_thickness  0.073125\n",
       "7  infill_pattern_honeycomb  0.051772\n",
       "4           bed_temperature  0.047715\n",
       "2            infill_density  0.038943\n",
       "0              layer_height  0.036233\n",
       "5               print_speed  0.025915"
      ]
     },
     "execution_count": 185,
     "metadata": {},
     "output_type": "execute_result"
    }
   ],
   "source": [
    "selector2 = SelectKBest(score_func=mutual_info_regression, k='all')\n",
    "selector2.fit_transform(X,y)\n",
    "\n",
    "scores2 = pd.DataFrame({'Features':X.columns,'Score':selector2.scores_})\n",
    "scores2.sort_values('Score', ascending=False)"
   ]
  },
  {
   "cell_type": "code",
   "execution_count": 63,
   "id": "b781daac",
   "metadata": {},
   "outputs": [],
   "source": [
    "from sklearn.preprocessing import MinMaxScaler\n",
    "mms = MinMaxScaler()"
   ]
  },
  {
   "cell_type": "code",
   "execution_count": 25,
   "id": "6e336a1f",
   "metadata": {},
   "outputs": [],
   "source": [
    "from sklearn.compose import ColumnTransformer"
   ]
  },
  {
   "cell_type": "code",
   "execution_count": 35,
   "id": "3585465a",
   "metadata": {},
   "outputs": [],
   "source": [
    "ct = ColumnTransformer(transformers = ['num', MinMaxScaler(), ['Score']],\n",
    "                      remainder=\"passthrough\")"
   ]
  },
  {
   "cell_type": "code",
   "execution_count": 42,
   "id": "e87b88ab",
   "metadata": {},
   "outputs": [],
   "source": [
    "scores[['Score']] = mms.fit_transform(scores[['Score']])"
   ]
  },
  {
   "cell_type": "code",
   "execution_count": 44,
   "id": "52bb6e33",
   "metadata": {},
   "outputs": [],
   "source": [
    "scores2[['Score']] = mms.fit_transform(scores2[['Score']])"
   ]
  },
  {
   "cell_type": "code",
   "execution_count": 48,
   "id": "0a2b9a85",
   "metadata": {},
   "outputs": [
    {
     "data": {
      "text/html": [
       "<div>\n",
       "<style scoped>\n",
       "    .dataframe tbody tr th:only-of-type {\n",
       "        vertical-align: middle;\n",
       "    }\n",
       "\n",
       "    .dataframe tbody tr th {\n",
       "        vertical-align: top;\n",
       "    }\n",
       "\n",
       "    .dataframe thead th {\n",
       "        text-align: right;\n",
       "    }\n",
       "</style>\n",
       "<table border=\"1\" class=\"dataframe\">\n",
       "  <thead>\n",
       "    <tr style=\"text-align: right;\">\n",
       "      <th></th>\n",
       "      <th>Features</th>\n",
       "      <th>Score_f_reg</th>\n",
       "      <th>Score_mutual_reg</th>\n",
       "    </tr>\n",
       "  </thead>\n",
       "  <tbody>\n",
       "    <tr>\n",
       "      <th>0</th>\n",
       "      <td>layer_height</td>\n",
       "      <td>1.000000</td>\n",
       "      <td>0.432753</td>\n",
       "    </tr>\n",
       "    <tr>\n",
       "      <th>1</th>\n",
       "      <td>wall_thickness</td>\n",
       "      <td>0.400555</td>\n",
       "      <td>0.540818</td>\n",
       "    </tr>\n",
       "    <tr>\n",
       "      <th>2</th>\n",
       "      <td>infill_density</td>\n",
       "      <td>0.763318</td>\n",
       "      <td>0.680267</td>\n",
       "    </tr>\n",
       "    <tr>\n",
       "      <th>3</th>\n",
       "      <td>nozzle_temperature</td>\n",
       "      <td>0.132549</td>\n",
       "      <td>1.000000</td>\n",
       "    </tr>\n",
       "    <tr>\n",
       "      <th>4</th>\n",
       "      <td>bed_temperature</td>\n",
       "      <td>0.132674</td>\n",
       "      <td>0.451742</td>\n",
       "    </tr>\n",
       "    <tr>\n",
       "      <th>5</th>\n",
       "      <td>print_speed</td>\n",
       "      <td>0.102155</td>\n",
       "      <td>0.212890</td>\n",
       "    </tr>\n",
       "    <tr>\n",
       "      <th>6</th>\n",
       "      <td>fan_speed</td>\n",
       "      <td>0.402657</td>\n",
       "      <td>0.846289</td>\n",
       "    </tr>\n",
       "    <tr>\n",
       "      <th>7</th>\n",
       "      <td>infill_pattern_honeycomb</td>\n",
       "      <td>0.000000</td>\n",
       "      <td>0.000000</td>\n",
       "    </tr>\n",
       "    <tr>\n",
       "      <th>8</th>\n",
       "      <td>material_pla</td>\n",
       "      <td>0.199396</td>\n",
       "      <td>0.501393</td>\n",
       "    </tr>\n",
       "  </tbody>\n",
       "</table>\n",
       "</div>"
      ],
      "text/plain": [
       "                   Features  Score_f_reg  Score_mutual_reg\n",
       "0              layer_height     1.000000          0.432753\n",
       "1            wall_thickness     0.400555          0.540818\n",
       "2            infill_density     0.763318          0.680267\n",
       "3        nozzle_temperature     0.132549          1.000000\n",
       "4           bed_temperature     0.132674          0.451742\n",
       "5               print_speed     0.102155          0.212890\n",
       "6                 fan_speed     0.402657          0.846289\n",
       "7  infill_pattern_honeycomb     0.000000          0.000000\n",
       "8              material_pla     0.199396          0.501393"
      ]
     },
     "execution_count": 48,
     "metadata": {},
     "output_type": "execute_result"
    }
   ],
   "source": [
    "overall_scores = scores.merge(scores2, on='Features', suffixes=['_f_reg', '_mutual_reg'])\n",
    "\n",
    "overall_scores"
   ]
  },
  {
   "cell_type": "code",
   "execution_count": 53,
   "id": "2d019780",
   "metadata": {},
   "outputs": [
    {
     "data": {
      "text/html": [
       "<div>\n",
       "<style scoped>\n",
       "    .dataframe tbody tr th:only-of-type {\n",
       "        vertical-align: middle;\n",
       "    }\n",
       "\n",
       "    .dataframe tbody tr th {\n",
       "        vertical-align: top;\n",
       "    }\n",
       "\n",
       "    .dataframe thead th {\n",
       "        text-align: right;\n",
       "    }\n",
       "</style>\n",
       "<table border=\"1\" class=\"dataframe\">\n",
       "  <thead>\n",
       "    <tr style=\"text-align: right;\">\n",
       "      <th></th>\n",
       "      <th>Features</th>\n",
       "      <th>Score_f_reg</th>\n",
       "      <th>Score_mutual_reg</th>\n",
       "      <th>avg_score</th>\n",
       "    </tr>\n",
       "  </thead>\n",
       "  <tbody>\n",
       "    <tr>\n",
       "      <th>2</th>\n",
       "      <td>infill_density</td>\n",
       "      <td>0.763318</td>\n",
       "      <td>0.680267</td>\n",
       "      <td>0.721792</td>\n",
       "    </tr>\n",
       "    <tr>\n",
       "      <th>0</th>\n",
       "      <td>layer_height</td>\n",
       "      <td>1.000000</td>\n",
       "      <td>0.432753</td>\n",
       "      <td>0.716376</td>\n",
       "    </tr>\n",
       "    <tr>\n",
       "      <th>6</th>\n",
       "      <td>fan_speed</td>\n",
       "      <td>0.402657</td>\n",
       "      <td>0.846289</td>\n",
       "      <td>0.624473</td>\n",
       "    </tr>\n",
       "    <tr>\n",
       "      <th>3</th>\n",
       "      <td>nozzle_temperature</td>\n",
       "      <td>0.132549</td>\n",
       "      <td>1.000000</td>\n",
       "      <td>0.566275</td>\n",
       "    </tr>\n",
       "    <tr>\n",
       "      <th>1</th>\n",
       "      <td>wall_thickness</td>\n",
       "      <td>0.400555</td>\n",
       "      <td>0.540818</td>\n",
       "      <td>0.470686</td>\n",
       "    </tr>\n",
       "    <tr>\n",
       "      <th>8</th>\n",
       "      <td>material_pla</td>\n",
       "      <td>0.199396</td>\n",
       "      <td>0.501393</td>\n",
       "      <td>0.350394</td>\n",
       "    </tr>\n",
       "    <tr>\n",
       "      <th>4</th>\n",
       "      <td>bed_temperature</td>\n",
       "      <td>0.132674</td>\n",
       "      <td>0.451742</td>\n",
       "      <td>0.292208</td>\n",
       "    </tr>\n",
       "    <tr>\n",
       "      <th>5</th>\n",
       "      <td>print_speed</td>\n",
       "      <td>0.102155</td>\n",
       "      <td>0.212890</td>\n",
       "      <td>0.157522</td>\n",
       "    </tr>\n",
       "    <tr>\n",
       "      <th>7</th>\n",
       "      <td>infill_pattern_honeycomb</td>\n",
       "      <td>0.000000</td>\n",
       "      <td>0.000000</td>\n",
       "      <td>0.000000</td>\n",
       "    </tr>\n",
       "  </tbody>\n",
       "</table>\n",
       "</div>"
      ],
      "text/plain": [
       "                   Features  Score_f_reg  Score_mutual_reg  avg_score\n",
       "2            infill_density     0.763318          0.680267   0.721792\n",
       "0              layer_height     1.000000          0.432753   0.716376\n",
       "6                 fan_speed     0.402657          0.846289   0.624473\n",
       "3        nozzle_temperature     0.132549          1.000000   0.566275\n",
       "1            wall_thickness     0.400555          0.540818   0.470686\n",
       "8              material_pla     0.199396          0.501393   0.350394\n",
       "4           bed_temperature     0.132674          0.451742   0.292208\n",
       "5               print_speed     0.102155          0.212890   0.157522\n",
       "7  infill_pattern_honeycomb     0.000000          0.000000   0.000000"
      ]
     },
     "execution_count": 53,
     "metadata": {},
     "output_type": "execute_result"
    }
   ],
   "source": [
    "overall_scores['avg_score'] = (overall_scores['Score_f_reg'] + overall_scores['Score_mutual_reg'])/2 \n",
    "overall_scores.sort_values(by='avg_score', ascending=False)"
   ]
  },
  {
   "cell_type": "code",
   "execution_count": 186,
   "id": "78580b51",
   "metadata": {},
   "outputs": [],
   "source": [
    "from sklearn.metrics import r2_score"
   ]
  },
  {
   "cell_type": "code",
   "execution_count": 187,
   "id": "d42e27a0",
   "metadata": {},
   "outputs": [
    {
     "name": "stdout",
     "output_type": "stream",
     "text": [
      "R2 score of the model without scaling the features: 0.19392578073504896\n",
      "R2 score of the model with scaling the features: 0.19392578073504863\n"
     ]
    }
   ],
   "source": [
    "from sklearn.linear_model import LinearRegression\n",
    "def lin_model(train_feature, train_target, test_feature, test_target):\n",
    "    linreg = LinearRegression()\n",
    "    linreg.fit(train_feature, train_target)\n",
    "    y_pred = linreg.predict(test_feature)\n",
    "    r2 = r2_score(test_target, y_pred)\n",
    "    \n",
    "    return r2\n",
    "\n",
    "#R2 score of the model without scaling:\n",
    "r2 = lin_model(X_train, y_train, X_test, y_test)\n",
    "print(f'R2 score of the model without scaling the features: {r2}')\n",
    "\n",
    "#R2 score of the model with scaling:\n",
    "r2_scaled = lin_model(X_train_scaled, y_train, X_test_scaled, y_test)\n",
    "print(f'R2 score of the model with scaling the features: {r2_scaled}')"
   ]
  },
  {
   "cell_type": "code",
   "execution_count": 188,
   "id": "8116f3f0",
   "metadata": {},
   "outputs": [],
   "source": [
    "from xgboost import XGBRegressor\n",
    "import xgboost as xgb\n",
    "\n",
    "xgb_A = XGBRegressor()"
   ]
  },
  {
   "cell_type": "code",
   "execution_count": 189,
   "id": "bd801ede",
   "metadata": {},
   "outputs": [
    {
     "name": "stdout",
     "output_type": "stream",
     "text": [
      "R2 score of the model without scaling the features: 0.1718706615405723\n",
      "R2 score of the model with scaling the features: 0.1718706615405723\n"
     ]
    }
   ],
   "source": [
    "def xgb_model(train_feature, train_target, test_feature, test_target):\n",
    "    \n",
    "    xgb_A.fit(train_feature, train_target)\n",
    "    y_pred_xgb = xgb_A.predict(test_feature)\n",
    "    r2 = r2_score(test_target, y_pred_xgb)\n",
    "    \n",
    "    return r2\n",
    "\n",
    "#R2 score of the model without scaling:\n",
    "r2 = xgb_model(X_train, y_train, X_test, y_test)\n",
    "print(f'R2 score of the model without scaling the features: {r2}')\n",
    "\n",
    "#R2 score of the model with scaling:\n",
    "r2_scaled = xgb_model(X_train_scaled, y_train, X_test_scaled, y_test)\n",
    "print(f'R2 score of the model with scaling the features: {r2_scaled}')"
   ]
  },
  {
   "cell_type": "code",
   "execution_count": 68,
   "id": "620515fb",
   "metadata": {},
   "outputs": [],
   "source": [
    "from sklearn.model_selection import GridSearchCV"
   ]
  },
  {
   "cell_type": "code",
   "execution_count": 190,
   "id": "09109439",
   "metadata": {},
   "outputs": [
    {
     "name": "stdout",
     "output_type": "stream",
     "text": [
      "Fitting 3 folds for each of 162 candidates, totalling 486 fits\n",
      "best score: 0.15575990509497759\n",
      "best parameters: {'booster': 'gblinear', 'eta': 0.1, 'gamma': 2, 'max_depth': 5}\n"
     ]
    }
   ],
   "source": [
    "parameter_grid = {'booster':['gblinear', 'gbtree'],\n",
    "                  'eta':[0.001, 0.01, 0.1],\n",
    "                 'max_depth':np.arange(2,11,1),\n",
    "                 'gamma':[1, 2, 3]}\n",
    "\n",
    "gsc = GridSearchCV(estimator=XGBRegressor(n_estimators=4, num_boost_rounds=5),\n",
    "                  param_grid=parameter_grid,\n",
    "                  scoring='r2',\n",
    "                  cv=3,\n",
    "                  verbose=1)\n",
    "\n",
    "gsc.fit(X_train_scaled, y_train)\n",
    "\n",
    "print(f'best score: {gsc.best_score_}')\n",
    "print(f'best parameters: {gsc.best_params_}')"
   ]
  },
  {
   "cell_type": "code",
   "execution_count": 191,
   "id": "2a11aac3",
   "metadata": {},
   "outputs": [
    {
     "data": {
      "text/plain": [
       "<AxesSubplot:title={'center':'Feature importance'}, xlabel='F score', ylabel='Features'>"
      ]
     },
     "execution_count": 191,
     "metadata": {},
     "output_type": "execute_result"
    },
    {
     "data": {
      "text/plain": [
       "<Figure size 800x700 with 0 Axes>"
      ]
     },
     "metadata": {},
     "output_type": "display_data"
    },
    {
     "data": {
      "image/png": "[encoded data removed]",
      "text/plain": [
       "<Figure size 640x480 with 1 Axes>"
      ]
     },
     "metadata": {},
     "output_type": "display_data"
    }
   ],
   "source": [
    "\n",
    "\n",
    "plt.figure(figsize=(8,7))\n",
    "xgb.plot_importance(booster=xgb_A)"
   ]
  },
  {
   "cell_type": "code",
   "execution_count": 23,
   "id": "1ae23ef8",
   "metadata": {},
   "outputs": [
    {
     "name": "stdout",
     "output_type": "stream",
     "text": [
      "(133, 7)\n",
      "(34, 7)\n"
     ]
    }
   ],
   "source": [
    "X_train_scaled = X_train_scaled.drop(['fan_speed', 'infill_pattern_honeycomb'], axis=1)\n",
    "X_test_scaled = X_test_scaled.drop(['fan_speed', 'infill_pattern_honeycomb'], axis=1)\n",
    "\n",
    "print(X_train_scaled.shape)\n",
    "print(X_test_scaled.shape)"
   ]
  },
  {
   "cell_type": "code",
   "execution_count": 24,
   "id": "f00814ea",
   "metadata": {},
   "outputs": [
    {
     "name": "stdout",
     "output_type": "stream",
     "text": [
      "R2 score of the model without scaling the features: 0.1718706615405723\n",
      "R2 score of the model with scaling the features: 0.06289837358803474\n"
     ]
    }
   ],
   "source": [
    "def xgb_model(train_feature, train_target, test_feature, test_target):\n",
    "    \n",
    "    xgb_A.fit(train_feature, train_target)\n",
    "    y_pred_xgb = xgb_A.predict(test_feature)\n",
    "    r2 = r2_score(test_target, y_pred_xgb)\n",
    "    \n",
    "    return r2\n",
    "\n",
    "#R2 score of the model without scaling:\n",
    "r2 = xgb_model(X_train, y_train, X_test, y_test)\n",
    "print(f'R2 score of the model without scaling the features: {r2}')\n",
    "\n",
    "#R2 score of the model with scaling:\n",
    "r2_scaled = xgb_model(X_train_scaled, y_train, X_test_scaled, y_test)\n",
    "print(f'R2 score of the model with scaling the features: {r2_scaled}')"
   ]
  },
  {
   "cell_type": "code",
   "execution_count": 25,
   "id": "78f6b6e8",
   "metadata": {},
   "outputs": [
    {
     "name": "stdout",
     "output_type": "stream",
     "text": [
      "Fitting 3 folds for each of 162 candidates, totalling 486 fits\n",
      "best score: 0.16474838722151952\n",
      "best parameters: {'booster': 'gblinear', 'eta': 0.1, 'gamma': 1, 'max_depth': 3}\n"
     ]
    }
   ],
   "source": [
    "parameter_grid = {'booster':['gblinear', 'gbtree'],\n",
    "                  'eta':[0.001, 0.01, 0.1],\n",
    "                 'max_depth':np.arange(2,11,1),\n",
    "                 'gamma':[1, 2, 3]}\n",
    "\n",
    "gsc = GridSearchCV(estimator=XGBRegressor(n_estimators=5, num_boost_rounds=50),\n",
    "                  param_grid=parameter_grid,\n",
    "                  scoring='r2',\n",
    "                  cv=3,\n",
    "                  verbose=1)\n",
    "\n",
    "gsc.fit(X_train_scaled, y_train)\n",
    "\n",
    "print(f'best score: {gsc.best_score_}')\n",
    "print(f'best parameters: {gsc.best_params_}')"
   ]
  },
  {
   "cell_type": "code",
   "execution_count": 72,
   "id": "91cd6461",
   "metadata": {},
   "outputs": [],
   "source": [
    "from sklearn.neural_network import MLPRegressor"
   ]
  },
  {
   "cell_type": "code",
   "execution_count": 192,
   "id": "043fa93c",
   "metadata": {},
   "outputs": [
    {
     "name": "stdout",
     "output_type": "stream",
     "text": [
      "-0.03802274692171115\n"
     ]
    }
   ],
   "source": [
    "mlpr = MLPRegressor(hidden_layer_sizes=(100, 50),\n",
    "                    activation='tanh',\n",
    "                    solver='sgd',\n",
    "                    alpha=0.1,\n",
    "                    learning_rate='adaptive',\n",
    "                    max_iter=2000,\n",
    "                    random_state=42)\n",
    "\n",
    "mlpr.fit(X_train_scaled, y_train)\n",
    "y_pred_mlpr = mlpr.predict(X_test_scaled)\n",
    "score_r = r2_score(y_test, y_pred_mlpr)\n",
    "\n",
    "print(score_r)"
   ]
  },
  {
   "cell_type": "code",
   "execution_count": 193,
   "id": "47760e70",
   "metadata": {},
   "outputs": [
    {
     "name": "stdout",
     "output_type": "stream",
     "text": [
      "Random Forest R² test: 0.300079150542231\n",
      "Random Forest R² train: 0.890841250833349\n"
     ]
    }
   ],
   "source": [
    "from sklearn.ensemble import RandomForestRegressor\n",
    "\n",
    "rf = RandomForestRegressor(n_estimators=100,\n",
    "                           max_depth=10,\n",
    "                           max_features=1.0,\n",
    "                           min_samples_leaf=1,\n",
    "                           criterion=\"absolute_error\",\n",
    "                          random_state=21)\n",
    "rf.fit(X_train_scaled, y_train)\n",
    "print(\"Random Forest R² test:\", rf.score(X_test_scaled, y_test))\n",
    "print(\"Random Forest R² train:\", rf.score(X_train_scaled, y_train))"
   ]
  },
  {
   "cell_type": "code",
   "execution_count": 194,
   "id": "f414b736",
   "metadata": {},
   "outputs": [
    {
     "data": {
      "image/png": "[encoded data removed]",
      "text/plain": [
       "<Figure size 640x480 with 1 Axes>"
      ]
     },
     "metadata": {},
     "output_type": "display_data"
    }
   ],
   "source": [
    "importances = rf.feature_importances_\n",
    "features = X.columns\n",
    "sns.barplot(x=importances, y=features)\n",
    "plt.title(\"Feature Importance (Random Forest)\")\n",
    "plt.show()"
   ]
  },
  {
   "cell_type": "code",
   "execution_count": 200,
   "id": "5e0ec9ca",
   "metadata": {},
   "outputs": [
    {
     "data": {
      "text/plain": [
       "(219,)"
      ]
     },
     "execution_count": 200,
     "metadata": {},
     "output_type": "execute_result"
    }
   ],
   "source": [
    "from sklearn.preprocessing import PolynomialFeatures\n",
    "\n",
    "poly = PolynomialFeatures(degree=3, include_bias=False)\n",
    "X_poly = poly.fit_transform(X)\n",
    "feature_names = poly.get_feature_names_out(X.columns.to_list())\n",
    "feature_names.shape"
   ]
  },
  {
   "cell_type": "code",
   "execution_count": 201,
   "id": "731558c6",
   "metadata": {},
   "outputs": [
    {
     "name": "stdout",
     "output_type": "stream",
     "text": [
      "Sparse symbolic model:\n",
      "+0.685 * wall_thickness\n",
      "+0.048 * wall_thickness infill_density\n",
      "+0.303 * wall_thickness nozzle_temperature\n",
      "+0.002 * wall_thickness infill_pattern_honeycomb\n",
      "+0.400 * layer_height wall_thickness infill_pattern_honeycomb\n",
      "+3.770 * layer_height infill_density nozzle_temperature\n",
      "+0.249 * layer_height infill_density bed_temperature\n",
      "-0.161 * layer_height infill_pattern_honeycomb material_pla\n",
      "+1.580 * wall_thickness^2 print_speed\n",
      "-1.051 * wall_thickness bed_temperature fan_speed\n",
      "-0.186 * wall_thickness fan_speed^2\n",
      "+0.052 * wall_thickness infill_pattern_honeycomb^2\n",
      "-0.028 * infill_density infill_pattern_honeycomb material_pla\n",
      "-1.027 * nozzle_temperature^2 fan_speed\n",
      "-0.299 * bed_temperature fan_speed^2\n",
      "+2.451 * bed_temperature fan_speed material_pla\n",
      "-0.728 * print_speed^3\n",
      "-0.544 * print_speed fan_speed^2\n",
      "-0.703 * print_speed fan_speed infill_pattern_honeycomb\n"
     ]
    }
   ],
   "source": [
    "from sklearn.linear_model import LassoCV\n",
    "\n",
    "scaler = StandardScaler()\n",
    "X_scaled = scaler.fit_transform(X_poly)\n",
    "\n",
    "\n",
    "lasso = LassoCV(cv=5, max_iter=10000)\n",
    "lasso.fit(X_scaled, y)\n",
    "\n",
    "\n",
    "coeffs = lasso.coef_\n",
    "non_zero_idx = np.where(np.abs(coeffs) > 1e-5)[0]\n",
    "\n",
    "print(\"Sparse symbolic model:\")\n",
    "for idx in non_zero_idx:\n",
    "    print(f\"{coeffs[idx]:+.3f} * {feature_names[idx]}\")"
   ]
  },
  {
   "cell_type": "code",
   "execution_count": 202,
   "id": "0b5d5b85",
   "metadata": {},
   "outputs": [
    {
     "name": "stdout",
     "output_type": "stream",
     "text": [
      "Learned symbolic expression:\n",
      "div(sub(sub(sub(add(add(X1, X8), X2), -0.680), sub(-0.425, X0)), log(sub(div(X0, X0), 0.960))), sqrt(log(0.940)))\n"
     ]
    }
   ],
   "source": [
    "from gplearn.genetic import SymbolicRegressor\n",
    "\n",
    "est = SymbolicRegressor(population_size=1000, generations=30,\n",
    "                        function_set=['add', 'sub', 'mul', 'div', 'sqrt', 'log'],\n",
    "                        parsimony_coefficient=0.01, random_state=0)\n",
    "est.fit(X_train_scaled, y_train)\n",
    "\n",
    "print(\"Learned symbolic expression:\")\n",
    "print(est._program)\n"
   ]
  },
  {
   "cell_type": "code",
   "execution_count": 199,
   "id": "e212e39d",
   "metadata": {},
   "outputs": [
    {
     "name": "stdout",
     "output_type": "stream",
     "text": [
      "R2: 0.01592160176901891\n"
     ]
    }
   ],
   "source": [
    "y_pred_est = est.predict(X_test_scaled)\n",
    "print(\"R2:\", r2_score(y_test, y_pred_est))\n",
    "#print(\"RMSE:\", mean_squared_error(y, y_pred_est, squared=False))"
   ]
  },
  {
   "cell_type": "code",
   "execution_count": null,
   "id": "2a17b5c5",
   "metadata": {},
   "outputs": [],
   "source": []
  }
 ],
 "metadata": {
  "kernelspec": {
   "display_name": "Python 3 (ipykernel)",
   "language": "python",
   "name": "python3"
  },
  "language_info": {
   "codemirror_mode": {
    "name": "ipython",
    "version": 3
   },
   "file_extension": ".py",
   "mimetype": "text/x-python",
   "name": "python",
   "nbconvert_exporter": "python",
   "pygments_lexer": "ipython3",
   "version": "3.9.13"
  }
 },
 "nbformat": 4,
 "nbformat_minor": 5
}
